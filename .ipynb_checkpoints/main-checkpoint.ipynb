{
 "cells": [
  {
   "cell_type": "markdown",
   "id": "e5980d15",
   "metadata": {},
   "source": [
    "#### Download the dataset from https://www.kaggle.com/competitions/dogs-vs-cats/data"
   ]
  },
  {
   "cell_type": "markdown",
   "id": "148318ad",
   "metadata": {},
   "source": [
    "#### Extract the dogs-vs-cats.zip in the same folder as this notebook"
   ]
  },
  {
   "cell_type": "code",
   "execution_count": 2,
   "id": "2a9311be",
   "metadata": {},
   "outputs": [],
   "source": [
    "import os\n",
    "\n",
    "source_dir = 'E:\\\\Projects\\\\Dogs vs Cats Classifier\\\\dogs-vs-cats\\\\train\\\\train'\n",
    "\n",
    "source_files = os.listdir(source_dir)"
   ]
  },
  {
   "cell_type": "code",
   "execution_count": 4,
   "id": "667a9ac9",
   "metadata": {},
   "outputs": [],
   "source": [
    "# The root directory of the project.\n",
    "root_dir = 'E:\\\\Projects\\\\Dogs vs Cats Classifier'\n",
    "\n",
    "# Creating the structured directory path for imagedatagenerator\n",
    "data_dir = os.path.join(root_dir,'data')\n",
    "os.makedirs(data_dir, exist_ok = True)\n",
    "\n",
    "training_dir = os.path.join(data_dir, 'training')\n",
    "os.makedirs(training_dir, exist_ok = True)\n",
    "\n",
    "validation_dir = os.path.join(data_dir, 'validation')\n",
    "os.makedirs(validation_dir, exist_ok = True)\n",
    "\n",
    "training_cats_dir = os.path.join(training_dir, \"cats\")\n",
    "os.makedirs(training_cats_dir, exist_ok = True)\n",
    "\n",
    "training_dogs_dir = os.path.join(training_dir, \"dogs\")\n",
    "os.makedirs(training_dogs_dir, exist_ok = True)\n",
    "\n",
    "validation_cats_dir = os.path.join(validation_dir, \"cats\")\n",
    "os.makedirs(validation_cats_dir, exist_ok = True)\n",
    "\n",
    "validation_dogs_dir = os.path.join(validation_dir, \"dogs\")\n",
    "os.makedirs(validation_dogs_dir, exist_ok = True)"
   ]
  },
  {
   "cell_type": "code",
   "execution_count": 5,
   "id": "718c5622",
   "metadata": {},
   "outputs": [
    {
     "name": "stdout",
     "output_type": "stream",
     "text": [
      "E:\\Projects\\Dogs vs Cats Classifier\\data\\training\n",
      "E:\\Projects\\Dogs vs Cats Classifier\\data\\validation\n",
      "E:\\Projects\\Dogs vs Cats Classifier\\data\\training\\cats\n",
      "E:\\Projects\\Dogs vs Cats Classifier\\data\\training\\dogs\n",
      "E:\\Projects\\Dogs vs Cats Classifier\\data\\validation\\cats\n",
      "E:\\Projects\\Dogs vs Cats Classifier\\data\\validation\\dogs\n"
     ]
    }
   ],
   "source": [
    "# Checking the directories created\n",
    "for rootdir, dirs, files in os.walk(data_dir):\n",
    "    for subdir in dirs:\n",
    "        print(os.path.join(rootdir, subdir))"
   ]
  },
  {
   "cell_type": "code",
   "execution_count": 3,
   "id": "fc4a364e",
   "metadata": {},
   "outputs": [],
   "source": [
    "source_cats_dir = os.path.join(source_dir, \"cats\")\n",
    "os.makedirs(source_cats_dir, exist_ok = True)\n",
    "\n",
    "source_dogs_dir = os.path.join(source_dir, \"dogs\")\n",
    "os.makedirs(source_dogs_dir, exist_ok = True)"
   ]
  },
  {
   "cell_type": "code",
   "execution_count": 1,
   "id": "d3fea9aa",
   "metadata": {},
   "outputs": [],
   "source": [
    "import re\n",
    "\n",
    "def is_cat_image(input_string):\n",
    "    pattern = r'^cat'\n",
    "    if re.match(pattern, input_string):\n",
    "        return True\n",
    "    else:\n",
    "        return False"
   ]
  },
  {
   "cell_type": "code",
   "execution_count": 7,
   "id": "a1d2661c",
   "metadata": {},
   "outputs": [],
   "source": [
    "import shutil\n",
    "\n",
    "for file in source_files:\n",
    "    if is_cat_image(file) == True:\n",
    "        source = os.path.join(source_dir, file)\n",
    "        destination = os.path.join(source_cats_dir, file)\n",
    "        shutil.move(source, destination)\n",
    "    else:\n",
    "        source = os.path.join(source_dir, file)\n",
    "        destination = os.path.join(source_dogs_dir, file)\n",
    "        shutil.move(source, destination)"
   ]
  },
  {
   "cell_type": "code",
   "execution_count": null,
   "id": "0044154a",
   "metadata": {},
   "outputs": [],
   "source": [
    "def split_data(SOURCE_DIR, TRAINING_DIR, VALIDATION_DIR, SPLIT_SIZE):\n",
    "    files = os.listdir(SOURCE_DIR)\n",
    "\n",
    "    for file in files:\n",
    "        if os.path.getsize(os.path.join(SOURCE_DIR, file)) > 0:\n",
    "            continue\n",
    "        else:\n",
    "            files.remove(file)\n",
    "            print(f\"{file} is zero length, so ignoring.\")\n",
    "\n",
    "    random.sample(files, len(files))\n",
    "\n",
    "    split_index = int(SPLIT_SIZE * len(files))\n",
    "\n",
    "    # Split the files into training and validation sets\n",
    "    training_files = files[:split_index]\n",
    "    validation_files = files[split_index:]\n",
    "\n",
    "    # Copy training files\n",
    "    for file in training_files:\n",
    "        source = os.path.join(SOURCE_DIR, file)\n",
    "        destination = os.path.join(TRAINING_DIR, file)\n",
    "        copyfile(source, destination)\n",
    "\n",
    "    # Copy validation files\n",
    "    for file in validation_files:\n",
    "        source = os.path.join(SOURCE_DIR, file)\n",
    "        destination = os.path.join(VALIDATION_DIR, file)\n",
    "        copyfile(source, destination)"
   ]
  }
 ],
 "metadata": {
  "kernelspec": {
   "display_name": "Python 3 (ipykernel)",
   "language": "python",
   "name": "python3"
  },
  "language_info": {
   "codemirror_mode": {
    "name": "ipython",
    "version": 3
   },
   "file_extension": ".py",
   "mimetype": "text/x-python",
   "name": "python",
   "nbconvert_exporter": "python",
   "pygments_lexer": "ipython3",
   "version": "3.11.2"
  }
 },
 "nbformat": 4,
 "nbformat_minor": 5
}
