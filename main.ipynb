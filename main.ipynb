{
 "cells": [
  {
   "cell_type": "markdown",
   "id": "e5980d15",
   "metadata": {},
   "source": [
    "#### Download the dataset from https://www.kaggle.com/competitions/dogs-vs-cats/data"
   ]
  },
  {
   "cell_type": "markdown",
   "id": "148318ad",
   "metadata": {},
   "source": [
    "#### Extract the dogs-vs-cats.zip in the same folder as this notebook"
   ]
  },
  {
   "cell_type": "code",
   "execution_count": 27,
   "id": "2a9311be",
   "metadata": {},
   "outputs": [],
   "source": [
    "import os\n",
    "import re\n",
    "import shutil\n",
    "import random\n",
    "\n",
    "\n",
    "\n",
    "# The root directory of the project.\n",
    "root_dir = 'E:\\\\Projects\\\\Dogs vs Cats Classifier'\n",
    "\n",
    "\n",
    "source_dir = os.path.join(root_dir, 'dogs-vs-cats\\\\train\\\\train')"
   ]
  },
  {
   "cell_type": "code",
   "execution_count": 20,
   "id": "667a9ac9",
   "metadata": {},
   "outputs": [],
   "source": [
    "# Creating the structured directory path for imagedatagenerator\n",
    "data_dir = os.path.join(root_dir,'data')\n",
    "os.makedirs(data_dir, exist_ok = True)\n",
    "\n",
    "training_dir = os.path.join(data_dir, 'training')\n",
    "os.makedirs(training_dir, exist_ok = True)\n",
    "\n",
    "validation_dir = os.path.join(data_dir, 'validation')\n",
    "os.makedirs(validation_dir, exist_ok = True)\n",
    "\n",
    "training_cats_dir = os.path.join(training_dir, \"cats\")\n",
    "os.makedirs(training_cats_dir, exist_ok = True)\n",
    "\n",
    "training_dogs_dir = os.path.join(training_dir, \"dogs\")\n",
    "os.makedirs(training_dogs_dir, exist_ok = True)\n",
    "\n",
    "validation_cats_dir = os.path.join(validation_dir, \"cats\")\n",
    "os.makedirs(validation_cats_dir, exist_ok = True)\n",
    "\n",
    "validation_dogs_dir = os.path.join(validation_dir, \"dogs\")\n",
    "os.makedirs(validation_dogs_dir, exist_ok = True)"
   ]
  },
  {
   "cell_type": "code",
   "execution_count": 5,
   "id": "718c5622",
   "metadata": {},
   "outputs": [
    {
     "name": "stdout",
     "output_type": "stream",
     "text": [
      "E:\\Projects\\Dogs vs Cats Classifier\\data\\training\n",
      "E:\\Projects\\Dogs vs Cats Classifier\\data\\validation\n",
      "E:\\Projects\\Dogs vs Cats Classifier\\data\\training\\cats\n",
      "E:\\Projects\\Dogs vs Cats Classifier\\data\\training\\dogs\n",
      "E:\\Projects\\Dogs vs Cats Classifier\\data\\validation\\cats\n",
      "E:\\Projects\\Dogs vs Cats Classifier\\data\\validation\\dogs\n"
     ]
    }
   ],
   "source": [
    "# Checking the directories created\n",
    "for rootdir, dirs, files in os.walk(data_dir):\n",
    "    for subdir in dirs:\n",
    "        print(os.path.join(rootdir, subdir))"
   ]
  },
  {
   "cell_type": "code",
   "execution_count": 14,
   "id": "2fee6081",
   "metadata": {},
   "outputs": [],
   "source": [
    "source_cats_dir = os.path.join(source_dir, \"cats\")\n",
    "os.makedirs(source_cats_dir, exist_ok = True)\n",
    "\n",
    "source_dogs_dir = os.path.join(source_dir, \"dogs\")\n",
    "os.makedirs(source_dogs_dir, exist_ok = True)"
   ]
  },
  {
   "cell_type": "code",
   "execution_count": 1,
   "id": "d3fea9aa",
   "metadata": {},
   "outputs": [],
   "source": [
    "def is_cat_image(input_string):\n",
    "    pattern = r'^cat'\n",
    "    if re.match(pattern, input_string):\n",
    "        return True\n",
    "    else:\n",
    "        return False"
   ]
  },
  {
   "cell_type": "code",
   "execution_count": 17,
   "id": "b422eac9",
   "metadata": {},
   "outputs": [],
   "source": [
    "source_files = os.listdir(source_dir)"
   ]
  },
  {
   "cell_type": "code",
   "execution_count": 18,
   "id": "9be88d9a",
   "metadata": {},
   "outputs": [
    {
     "ename": "Error",
     "evalue": "Cannot move a directory 'E:\\Projects\\Dogs vs Cats Classifier\\dogs-vs-cats\\train\\train\\cats' into itself 'E:\\Projects\\Dogs vs Cats Classifier\\dogs-vs-cats\\train\\train\\cats\\cats'.",
     "output_type": "error",
     "traceback": [
      "\u001b[1;31m----------------------------------------------------------------------\u001b[0m",
      "\u001b[1;31mOSError\u001b[0m                              Traceback (most recent call last)",
      "File \u001b[1;32mC:\\Python311\\Lib\\shutil.py:825\u001b[0m, in \u001b[0;36mmove\u001b[1;34m(src, dst, copy_function)\u001b[0m\n\u001b[0;32m    824\u001b[0m \u001b[38;5;28;01mtry\u001b[39;00m:\n\u001b[1;32m--> 825\u001b[0m     os\u001b[38;5;241m.\u001b[39mrename(src, real_dst)\n\u001b[0;32m    826\u001b[0m \u001b[38;5;28;01mexcept\u001b[39;00m \u001b[38;5;167;01mOSError\u001b[39;00m:\n",
      "\u001b[1;31mOSError\u001b[0m: [WinError 87] The parameter is incorrect: 'E:\\\\Projects\\\\Dogs vs Cats Classifier\\\\dogs-vs-cats\\\\train\\\\train\\\\cats' -> 'E:\\\\Projects\\\\Dogs vs Cats Classifier\\\\dogs-vs-cats\\\\train\\\\train\\\\cats\\\\cats'",
      "\nDuring handling of the above exception, another exception occurred:\n",
      "\u001b[1;31mError\u001b[0m                                Traceback (most recent call last)",
      "Cell \u001b[1;32mIn[18], line 7\u001b[0m\n\u001b[0;32m      5\u001b[0m     source \u001b[38;5;241m=\u001b[39m os\u001b[38;5;241m.\u001b[39mpath\u001b[38;5;241m.\u001b[39mjoin(source_dir, file)\n\u001b[0;32m      6\u001b[0m     destination \u001b[38;5;241m=\u001b[39m os\u001b[38;5;241m.\u001b[39mpath\u001b[38;5;241m.\u001b[39mjoin(source_cats_dir, file)\n\u001b[1;32m----> 7\u001b[0m     \u001b[43mshutil\u001b[49m\u001b[38;5;241;43m.\u001b[39;49m\u001b[43mmove\u001b[49m\u001b[43m(\u001b[49m\u001b[43msource\u001b[49m\u001b[43m,\u001b[49m\u001b[43m \u001b[49m\u001b[43mdestination\u001b[49m\u001b[43m)\u001b[49m\n\u001b[0;32m      8\u001b[0m \u001b[38;5;28;01melse\u001b[39;00m:\n\u001b[0;32m      9\u001b[0m     source \u001b[38;5;241m=\u001b[39m os\u001b[38;5;241m.\u001b[39mpath\u001b[38;5;241m.\u001b[39mjoin(source_dir, file)\n",
      "File \u001b[1;32mC:\\Python311\\Lib\\shutil.py:833\u001b[0m, in \u001b[0;36mmove\u001b[1;34m(src, dst, copy_function)\u001b[0m\n\u001b[0;32m    831\u001b[0m \u001b[38;5;28;01melif\u001b[39;00m os\u001b[38;5;241m.\u001b[39mpath\u001b[38;5;241m.\u001b[39misdir(src):\n\u001b[0;32m    832\u001b[0m     \u001b[38;5;28;01mif\u001b[39;00m _destinsrc(src, dst):\n\u001b[1;32m--> 833\u001b[0m         \u001b[38;5;28;01mraise\u001b[39;00m Error(\u001b[38;5;124m\"\u001b[39m\u001b[38;5;124mCannot move a directory \u001b[39m\u001b[38;5;124m'\u001b[39m\u001b[38;5;132;01m%s\u001b[39;00m\u001b[38;5;124m'\u001b[39m\u001b[38;5;124m into itself\u001b[39m\u001b[38;5;124m\"\u001b[39m\n\u001b[0;32m    834\u001b[0m                     \u001b[38;5;124m\"\u001b[39m\u001b[38;5;124m \u001b[39m\u001b[38;5;124m'\u001b[39m\u001b[38;5;132;01m%s\u001b[39;00m\u001b[38;5;124m'\u001b[39m\u001b[38;5;124m.\u001b[39m\u001b[38;5;124m\"\u001b[39m \u001b[38;5;241m%\u001b[39m (src, dst))\n\u001b[0;32m    835\u001b[0m     \u001b[38;5;28;01mif\u001b[39;00m (_is_immutable(src)\n\u001b[0;32m    836\u001b[0m             \u001b[38;5;129;01mor\u001b[39;00m (\u001b[38;5;129;01mnot\u001b[39;00m os\u001b[38;5;241m.\u001b[39maccess(src, os\u001b[38;5;241m.\u001b[39mW_OK) \u001b[38;5;129;01mand\u001b[39;00m os\u001b[38;5;241m.\u001b[39mlistdir(src)\n\u001b[0;32m    837\u001b[0m                 \u001b[38;5;129;01mand\u001b[39;00m sys\u001b[38;5;241m.\u001b[39mplatform \u001b[38;5;241m==\u001b[39m \u001b[38;5;124m'\u001b[39m\u001b[38;5;124mdarwin\u001b[39m\u001b[38;5;124m'\u001b[39m)):\n\u001b[0;32m    838\u001b[0m         \u001b[38;5;28;01mraise\u001b[39;00m \u001b[38;5;167;01mPermissionError\u001b[39;00m(\u001b[38;5;124m\"\u001b[39m\u001b[38;5;124mCannot move the non-empty directory \u001b[39m\u001b[38;5;124m\"\u001b[39m\n\u001b[0;32m    839\u001b[0m                               \u001b[38;5;124m\"\u001b[39m\u001b[38;5;124m'\u001b[39m\u001b[38;5;132;01m%s\u001b[39;00m\u001b[38;5;124m'\u001b[39m\u001b[38;5;124m: Lacking write permission to \u001b[39m\u001b[38;5;124m'\u001b[39m\u001b[38;5;132;01m%s\u001b[39;00m\u001b[38;5;124m'\u001b[39m\u001b[38;5;124m.\u001b[39m\u001b[38;5;124m\"\u001b[39m\n\u001b[0;32m    840\u001b[0m                               \u001b[38;5;241m%\u001b[39m (src, src))\n",
      "\u001b[1;31mError\u001b[0m: Cannot move a directory 'E:\\Projects\\Dogs vs Cats Classifier\\dogs-vs-cats\\train\\train\\cats' into itself 'E:\\Projects\\Dogs vs Cats Classifier\\dogs-vs-cats\\train\\train\\cats\\cats'."
     ]
    }
   ],
   "source": [
    "for file in source_files:\n",
    "    if is_cat_image(file) == True:\n",
    "        source = os.path.join(source_dir, file)\n",
    "        destination = os.path.join(source_cats_dir, file)\n",
    "        shutil.move(source, destination)\n",
    "    else:\n",
    "        source = os.path.join(source_dir, file)\n",
    "        destination = os.path.join(source_dogs_dir, file)\n",
    "\n",
    "        shutil.move(source, destination)"
   ]
  },
  {
   "cell_type": "code",
   "execution_count": 28,
   "id": "9942f516",
   "metadata": {},
   "outputs": [],
   "source": [
    "def split_data(SOURCE_DIR, TRAINING_DIR, VALIDATION_DIR, SPLIT_SIZE):\n",
    "    files = os.listdir(SOURCE_DIR)\n",
    "\n",
    "    for file in files:\n",
    "        if os.path.getsize(os.path.join(SOURCE_DIR, file)) > 0:\n",
    "            continue\n",
    "        else:\n",
    "            files.remove(file)\n",
    "            print(f\"{file} is zero length, so ignoring.\")\n",
    "\n",
    "    random.sample(files, len(files))\n",
    "\n",
    "    split_index = int(SPLIT_SIZE * len(files))\n",
    "\n",
    "    # Split the files into training and validation sets\n",
    "    training_files = files[:split_index]\n",
    "    validation_files = files[split_index:]\n",
    "\n",
    "    # Copy training files\n",
    "    for file in training_files:\n",
    "        source = os.path.join(SOURCE_DIR, file)\n",
    "        destination = os.path.join(TRAINING_DIR, file)\n",
    "        shutil.copyfile(source, destination)\n",
    "\n",
    "    # Copy validation files\n",
    "    for file in validation_files:\n",
    "        source = os.path.join(SOURCE_DIR, file)\n",
    "        destination = os.path.join(VALIDATION_DIR, file)\n",
    "        shutil.copyfile(source, destination)"
   ]
  },
  {
   "cell_type": "code",
   "execution_count": 29,
   "id": "68697112",
   "metadata": {},
   "outputs": [],
   "source": [
    "source_cats_dir = os.path.join(source_dir, \"cats\")\n",
    "source_dogs_dir = os.path.join(source_dir, \"dogs\")\n",
    "\n",
    "# Define proportion of images used for training\n",
    "split_size = 0.8\n",
    "\n",
    "# Run the function\n",
    "# NOTE: Messages about zero length images should be printed out\n",
    "split_data(source_cats_dir, training_cats_dir, validation_cats_dir, split_size)\n",
    "split_data(source_dogs_dir, training_dogs_dir, validation_dogs_dir, split_size)"
   ]
  },
  {
   "cell_type": "code",
   "execution_count": 30,
   "id": "6965786e",
   "metadata": {},
   "outputs": [
    {
     "name": "stdout",
     "output_type": "stream",
     "text": [
      "\n",
      "\n",
      "Original cat's directory has 12500 images\n",
      "Original dog's directory has 12500 images\n",
      "\n",
      "There are 10000 images of cats for training\n",
      "There are 10000 images of dogs for training\n",
      "There are 2500 images of cats for validation\n",
      "There are 2500 images of dogs for validation\n"
     ]
    }
   ],
   "source": [
    "# Check that the number of images matches the expected output\n",
    "\n",
    "# Your function should perform copies rather than moving images so original directories should contain unchanged images\n",
    "print(f\"\\n\\nOriginal cat's directory has {len(os.listdir(source_cats_dir))} images\")\n",
    "print(f\"Original dog's directory has {len(os.listdir(source_dogs_dir))} images\\n\")\n",
    "\n",
    "# Training and validation splits\n",
    "print(f\"There are {len(os.listdir(training_cats_dir))} images of cats for training\")\n",
    "print(f\"There are {len(os.listdir(training_dogs_dir))} images of dogs for training\")\n",
    "print(f\"There are {len(os.listdir(validation_cats_dir))} images of cats for validation\")\n",
    "print(f\"There are {len(os.listdir(validation_dogs_dir))} images of dogs for validation\")"
   ]
  },
  {
   "cell_type": "code",
   "execution_count": null,
   "id": "a042604d",
   "metadata": {},
   "outputs": [],
   "source": []
  }
 ],
 "metadata": {
  "kernelspec": {
   "display_name": "Python 3 (ipykernel)",
   "language": "python",
   "name": "python3"
  },
  "language_info": {
   "codemirror_mode": {
    "name": "ipython",
    "version": 3
   },
   "file_extension": ".py",
   "mimetype": "text/x-python",
   "name": "python",
   "nbconvert_exporter": "python",
   "pygments_lexer": "ipython3",
   "version": "3.11.2"
  }
 },
 "nbformat": 4,
 "nbformat_minor": 5
}
