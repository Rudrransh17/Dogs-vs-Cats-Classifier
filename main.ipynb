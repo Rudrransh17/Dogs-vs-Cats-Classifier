{
 "cells": [
  {
   "cell_type": "markdown",
   "id": "e5980d15",
   "metadata": {},
   "source": [
    "#### Download the dataset from https://www.kaggle.com/competitions/dogs-vs-cats/data"
   ]
  },
  {
   "cell_type": "markdown",
   "id": "148318ad",
   "metadata": {},
   "source": [
    "#### Extract the dogs-vs-cats.zip in the same folder as this notebook"
   ]
  },
  {
   "cell_type": "code",
   "execution_count": 1,
   "id": "2a9311be",
   "metadata": {},
   "outputs": [],
   "source": [
    "import os\n",
    "import re\n",
    "import shutil\n",
    "import random\n",
    "\n",
    "\n",
    "\n",
    "# The root directory of the project.\n",
    "root_dir = 'E:\\\\Projects\\\\Dogs vs Cats Classifier'\n",
    "\n",
    "\n",
    "source_dir = os.path.join(root_dir, 'dogs-vs-cats\\\\train\\\\train')"
   ]
  },
  {
   "cell_type": "code",
   "execution_count": 2,
   "id": "667a9ac9",
   "metadata": {},
   "outputs": [],
   "source": [
    "# Creating the structured directory path for imagedatagenerator\n",
    "data_dir = os.path.join(root_dir,'data')\n",
    "os.makedirs(data_dir, exist_ok = True)\n",
    "\n",
    "training_dir = os.path.join(data_dir, 'training')\n",
    "os.makedirs(training_dir, exist_ok = True)\n",
    "\n",
    "validation_dir = os.path.join(data_dir, 'validation')\n",
    "os.makedirs(validation_dir, exist_ok = True)\n",
    "\n",
    "training_cats_dir = os.path.join(training_dir, \"cats\")\n",
    "os.makedirs(training_cats_dir, exist_ok = True)\n",
    "\n",
    "training_dogs_dir = os.path.join(training_dir, \"dogs\")\n",
    "os.makedirs(training_dogs_dir, exist_ok = True)\n",
    "\n",
    "validation_cats_dir = os.path.join(validation_dir, \"cats\")\n",
    "os.makedirs(validation_cats_dir, exist_ok = True)\n",
    "\n",
    "validation_dogs_dir = os.path.join(validation_dir, \"dogs\")\n",
    "os.makedirs(validation_dogs_dir, exist_ok = True)"
   ]
  },
  {
   "cell_type": "code",
   "execution_count": 3,
   "id": "718c5622",
   "metadata": {},
   "outputs": [
    {
     "name": "stdout",
     "output_type": "stream",
     "text": [
      "E:\\Projects\\Dogs vs Cats Classifier\\data\\training\n",
      "E:\\Projects\\Dogs vs Cats Classifier\\data\\validation\n",
      "E:\\Projects\\Dogs vs Cats Classifier\\data\\training\\cats\n",
      "E:\\Projects\\Dogs vs Cats Classifier\\data\\training\\dogs\n",
      "E:\\Projects\\Dogs vs Cats Classifier\\data\\validation\\cats\n",
      "E:\\Projects\\Dogs vs Cats Classifier\\data\\validation\\dogs\n"
     ]
    }
   ],
   "source": [
    "# Checking the directories created\n",
    "for rootdir, dirs, files in os.walk(data_dir):\n",
    "    for subdir in dirs:\n",
    "        print(os.path.join(rootdir, subdir))"
   ]
  },
  {
   "cell_type": "code",
   "execution_count": 4,
   "id": "b422eac9",
   "metadata": {},
   "outputs": [],
   "source": [
    "source_files = os.listdir(source_dir)"
   ]
  },
  {
   "cell_type": "code",
   "execution_count": 5,
   "id": "2fee6081",
   "metadata": {},
   "outputs": [],
   "source": [
    "# Make cats and dogs folder inside the source folder\n",
    "source_cats_dir = os.path.join(source_dir, \"cats\")\n",
    "os.makedirs(source_cats_dir, exist_ok = True)\n",
    "\n",
    "source_dogs_dir = os.path.join(source_dir, \"dogs\")\n",
    "os.makedirs(source_dogs_dir, exist_ok = True)"
   ]
  },
  {
   "cell_type": "code",
   "execution_count": 6,
   "id": "d3fea9aa",
   "metadata": {},
   "outputs": [],
   "source": [
    "# Function to check if image is of cat or dog using its name\n",
    "def is_cat_image(input_string):\n",
    "    pattern = r'^cat'\n",
    "    if re.match(pattern, input_string):\n",
    "        return True\n",
    "    else:\n",
    "        return False"
   ]
  },
  {
   "cell_type": "code",
   "execution_count": 7,
   "id": "9be88d9a",
   "metadata": {},
   "outputs": [],
   "source": [
    "# Move the images into cats and dogs folder inside the source folder\n",
    "for file in source_files:\n",
    "    if is_cat_image(file) == True:\n",
    "        source = os.path.join(source_dir, file)\n",
    "        destination = os.path.join(source_cats_dir, file)\n",
    "        shutil.move(source, destination)\n",
    "    else:\n",
    "        source = os.path.join(source_dir, file)\n",
    "        destination = os.path.join(source_dogs_dir, file)\n",
    "\n",
    "        shutil.move(source, destination)"
   ]
  },
  {
   "cell_type": "code",
   "execution_count": 8,
   "id": "9942f516",
   "metadata": {},
   "outputs": [],
   "source": [
    "# Function to copy images to training and validation directories\n",
    "def split_data(SOURCE_DIR, TRAINING_DIR, VALIDATION_DIR, SPLIT_SIZE):\n",
    "    files = os.listdir(SOURCE_DIR)\n",
    "\n",
    "    for file in files:\n",
    "        if os.path.getsize(os.path.join(SOURCE_DIR, file)) > 0:\n",
    "            continue\n",
    "        else:\n",
    "            files.remove(file)\n",
    "            print(f\"{file} is zero length, so ignoring.\")\n",
    "\n",
    "    random.sample(files, len(files))\n",
    "\n",
    "    split_index = int(SPLIT_SIZE * len(files))\n",
    "\n",
    "    # Split the files into training and validation sets\n",
    "    training_files = files[:split_index]\n",
    "    validation_files = files[split_index:]\n",
    "\n",
    "    # Copy training files\n",
    "    for file in training_files:\n",
    "        source = os.path.join(SOURCE_DIR, file)\n",
    "        destination = os.path.join(TRAINING_DIR, file)\n",
    "        shutil.copyfile(source, destination)\n",
    "\n",
    "    # Copy validation files\n",
    "    for file in validation_files:\n",
    "        source = os.path.join(SOURCE_DIR, file)\n",
    "        destination = os.path.join(VALIDATION_DIR, file)\n",
    "        shutil.copyfile(source, destination)"
   ]
  },
  {
   "cell_type": "code",
   "execution_count": 9,
   "id": "68697112",
   "metadata": {},
   "outputs": [],
   "source": [
    "source_cats_dir = os.path.join(source_dir, \"cats\")\n",
    "source_dogs_dir = os.path.join(source_dir, \"dogs\")\n",
    "\n",
    "# Defining proportion of images used for training\n",
    "split_size = 0.8\n",
    "\n",
    "# Running the function\n",
    "split_data(source_cats_dir, training_cats_dir, validation_cats_dir, split_size)\n",
    "split_data(source_dogs_dir, training_dogs_dir, validation_dogs_dir, split_size)"
   ]
  },
  {
   "cell_type": "code",
   "execution_count": 10,
   "id": "6965786e",
   "metadata": {},
   "outputs": [
    {
     "name": "stdout",
     "output_type": "stream",
     "text": [
      "\n",
      "\n",
      "Original cat's directory has 12500 images\n",
      "Original dog's directory has 12500 images\n",
      "\n",
      "There are 10000 images of cats for training\n",
      "There are 10000 images of dogs for training\n",
      "There are 2500 images of cats for validation\n",
      "There are 2500 images of dogs for validation\n"
     ]
    }
   ],
   "source": [
    "# Checking that the number of images matches the expected output\n",
    "print(f\"\\n\\nOriginal cat's directory has {len(os.listdir(source_cats_dir))} images\")\n",
    "print(f\"Original dog's directory has {len(os.listdir(source_dogs_dir))} images\\n\")\n",
    "\n",
    "# Training and validation splits\n",
    "print(f\"There are {len(os.listdir(training_cats_dir))} images of cats for training\")\n",
    "print(f\"There are {len(os.listdir(training_dogs_dir))} images of dogs for training\")\n",
    "print(f\"There are {len(os.listdir(validation_cats_dir))} images of cats for validation\")\n",
    "print(f\"There are {len(os.listdir(validation_dogs_dir))} images of dogs for validation\")"
   ]
  },
  {
   "cell_type": "code",
   "execution_count": 12,
   "id": "a042604d",
   "metadata": {},
   "outputs": [
    {
     "name": "stdout",
     "output_type": "stream",
     "text": [
      "Found 20000 images belonging to 2 classes.\n",
      "Found 5000 images belonging to 2 classes.\n"
     ]
    }
   ],
   "source": [
    "# Using the ImageDataGenerator to load the images\n",
    "from tensorflow.keras.preprocessing.image import ImageDataGenerator\n",
    "\n",
    "# Adding data-augmentation parameters to ImageDataGenerator\n",
    "train_datagen = ImageDataGenerator(rescale = 1./255.,\n",
    "                                   rotation_range = 45,\n",
    "                                   width_shift_range = 0.2,\n",
    "                                   height_shift_range = 0.2,\n",
    "                                   shear_range = 0.2,\n",
    "                                   zoom_range = 0.2,\n",
    "                                   horizontal_flip = True)\n",
    "\n",
    "# Augmentation not used in validation\n",
    "validation_datagen = ImageDataGenerator( rescale = 1.0/255. )\n",
    "\n",
    "# Flow training images in batches of 100 using train_datagen generator\n",
    "train_generator = train_datagen.flow_from_directory(training_dir,\n",
    "                                                    batch_size = 100,\n",
    "                                                    class_mode = 'binary', \n",
    "                                                    target_size = (150, 150))     \n",
    "\n",
    "# Flow validation images in batches of 25 using validation_datagen generator\n",
    "validation_generator =  validation_datagen.flow_from_directory( validation_dir,\n",
    "                                                          batch_size  = 25,\n",
    "                                                          class_mode  = 'binary', \n",
    "                                                          target_size = (150, 150))"
   ]
  },
  {
   "cell_type": "code",
   "execution_count": 17,
   "id": "0553718b",
   "metadata": {},
   "outputs": [
    {
     "data": {
      "text/plain": [
       "('E:\\\\Projects\\\\Dogs vs Cats Classifier\\\\inception_v3_weights.h5',\n",
       " <http.client.HTTPMessage at 0x1b86604dd10>)"
      ]
     },
     "execution_count": 17,
     "metadata": {},
     "output_type": "execute_result"
    }
   ],
   "source": [
    "# Download the pre-trained weights of InceptionV3 Model.\n",
    "import urllib.request\n",
    "\n",
    "url = \"https://storage.googleapis.com/mledu-datasets/inception_v3_weights_tf_dim_ordering_tf_kernels_notop.h5\"\n",
    "file_name = \"inception_v3_weights.h5\"\n",
    "download_path = root_dir\n",
    "\n",
    "file_path = os.path.join(download_path, file_name)\n",
    "\n",
    "urllib.request.urlretrieve(url, file_path)\n"
   ]
  },
  {
   "cell_type": "code",
   "execution_count": null,
   "id": "bc200308",
   "metadata": {},
   "outputs": [],
   "source": []
  }
 ],
 "metadata": {
  "kernelspec": {
   "display_name": "Python 3 (ipykernel)",
   "language": "python",
   "name": "python3"
  },
  "language_info": {
   "codemirror_mode": {
    "name": "ipython",
    "version": 3
   },
   "file_extension": ".py",
   "mimetype": "text/x-python",
   "name": "python",
   "nbconvert_exporter": "python",
   "pygments_lexer": "ipython3",
   "version": "3.11.2"
  }
 },
 "nbformat": 4,
 "nbformat_minor": 5
}
